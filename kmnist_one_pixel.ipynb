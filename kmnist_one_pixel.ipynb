{
  "nbformat": 4,
  "nbformat_minor": 0,
  "metadata": {
    "colab": {
      "name": "kmnist-one-pixel.ipynb",
      "version": "0.3.2",
      "provenance": [],
      "collapsed_sections": [],
      "include_colab_link": true
    },
    "kernelspec": {
      "name": "python3",
      "display_name": "Python 3"
    },
    "accelerator": "GPU"
  },
  "cells": [
    {
      "cell_type": "markdown",
      "metadata": {
        "id": "view-in-github",
        "colab_type": "text"
      },
      "source": [
        "<a href=\"https://colab.research.google.com/github/nick11roberts/noise-weight-theft/blob/master/kmnist_one_pixel.ipynb\" target=\"_parent\"><img src=\"https://colab.research.google.com/assets/colab-badge.svg\" alt=\"Open In Colab\"/></a>"
      ]
    },
    {
      "cell_type": "code",
      "metadata": {
        "id": "yrAXwS8suKq7",
        "colab_type": "code",
        "outputId": "83d2db10-c9f8-4f6a-adbb-f9fb27098095",
        "colab": {
          "base_uri": "https://localhost:8080/",
          "height": 527
        }
      },
      "source": [
        "'''Trains a simple convnet on the MNIST dataset.\n",
        "\n",
        "Gets to 99.25% test accuracy after 12 epochs\n",
        "(there is still a lot of margin for parameter tuning).\n",
        "16 seconds per epoch on a GRID K520 GPU.\n",
        "'''\n",
        "\n",
        "from __future__ import print_function\n",
        "import keras\n",
        "#from keras.datasets import kmnist\n",
        "from keras.models import Sequential\n",
        "from keras.layers import Dense, Dropout, Flatten\n",
        "from keras.layers import Conv2D, MaxPooling2D\n",
        "from keras import backend as K\n",
        "import numpy as np\n",
        "\n",
        "batch_size = 128\n",
        "num_classes = 10\n",
        "epochs = 12\n",
        "\n",
        "# input image dimensions\n",
        "img_rows, img_cols = 28, 28\n",
        "\n",
        "# the data, split between train and test sets\n",
        "x_train = np.load('kmnist-train-imgs.npz')['arr_0']\n",
        "x_test = np.load('kmnist-test-imgs.npz')['arr_0']\n",
        "y_train = np.load('kmnist-train-labels.npz')['arr_0']\n",
        "y_test = np.load('kmnist-test-labels.npz')['arr_0']\n",
        "\n",
        "if K.image_data_format() == 'channels_first':\n",
        "    x_train = x_train.reshape(x_train.shape[0], 1, img_rows, img_cols)\n",
        "    x_test = x_test.reshape(x_test.shape[0], 1, img_rows, img_cols)\n",
        "    input_shape = (1, img_rows, img_cols)\n",
        "else:\n",
        "    x_train = x_train.reshape(x_train.shape[0], img_rows, img_cols, 1)\n",
        "    x_test = x_test.reshape(x_test.shape[0], img_rows, img_cols, 1)\n",
        "    input_shape = (img_rows, img_cols, 1)\n",
        "\n",
        "x_train = x_train.astype('float32')\n",
        "x_test = x_test.astype('float32')\n",
        "x_train /= 255\n",
        "x_test /= 255\n",
        "print('x_train shape:', x_train.shape)\n",
        "print(x_train.shape[0], 'train samples')\n",
        "print(x_test.shape[0], 'test samples')\n",
        "\n",
        "\n",
        "\n",
        "##### COMPLEMENT CODE #####\n",
        "#x_train = 1.0 - x_train\n",
        "#x_test = 1.0 - x_test\n",
        "##### /COMPLEMENT CODE ####\n",
        "\n",
        "\n",
        "# convert class vectors to binary class matrices\n",
        "y_train = keras.utils.to_categorical(y_train, num_classes)\n",
        "y_test = keras.utils.to_categorical(y_test, num_classes)\n",
        "\n",
        "model = Sequential()\n",
        "model.add(Conv2D(32, kernel_size=(3, 3),\n",
        "                 activation='relu',\n",
        "                 input_shape=input_shape))\n",
        "model.add(Conv2D(64, (3, 3), activation='relu'))\n",
        "model.add(MaxPooling2D(pool_size=(2, 2)))\n",
        "model.add(Dropout(0.25))\n",
        "model.add(Flatten())\n",
        "model.add(Dense(128, activation='relu'))\n",
        "model.add(Dropout(0.5))\n",
        "model.add(Dense(num_classes, activation='softmax'))\n",
        "\n",
        "model.compile(loss=keras.losses.categorical_crossentropy,\n",
        "              optimizer=keras.optimizers.Adadelta(),\n",
        "              metrics=['accuracy'])\n",
        "\n",
        "model.fit(x_train, y_train,\n",
        "          batch_size=batch_size,\n",
        "          epochs=epochs,\n",
        "          verbose=1,\n",
        "          validation_data=(x_test, y_test))\n",
        "score = model.evaluate(x_test, y_test, verbose=0)\n",
        "print('Test loss:', score[0])\n",
        "print('Test accuracy:', score[1])\n"
      ],
      "execution_count": 0,
      "outputs": [
        {
          "output_type": "stream",
          "text": [
            "x_train shape: (60000, 28, 28, 1)\n",
            "60000 train samples\n",
            "10000 test samples\n",
            "Train on 60000 samples, validate on 10000 samples\n",
            "Epoch 1/12\n",
            "60000/60000 [==============================] - 5s 83us/step - loss: 0.4421 - acc: 0.8616 - val_loss: 0.3533 - val_acc: 0.8986\n",
            "Epoch 2/12\n",
            "60000/60000 [==============================] - 4s 74us/step - loss: 0.1748 - acc: 0.9475 - val_loss: 0.2843 - val_acc: 0.9202\n",
            "Epoch 3/12\n",
            "60000/60000 [==============================] - 5s 76us/step - loss: 0.1300 - acc: 0.9607 - val_loss: 0.2476 - val_acc: 0.9304\n",
            "Epoch 4/12\n",
            "60000/60000 [==============================] - 5s 79us/step - loss: 0.1019 - acc: 0.9691 - val_loss: 0.2351 - val_acc: 0.9339\n",
            "Epoch 5/12\n",
            "60000/60000 [==============================] - 5s 78us/step - loss: 0.0887 - acc: 0.9730 - val_loss: 0.2232 - val_acc: 0.9394\n",
            "Epoch 6/12\n",
            "60000/60000 [==============================] - 5s 76us/step - loss: 0.0801 - acc: 0.9761 - val_loss: 0.2235 - val_acc: 0.9405\n",
            "Epoch 7/12\n",
            "60000/60000 [==============================] - 4s 75us/step - loss: 0.0691 - acc: 0.9787 - val_loss: 0.2087 - val_acc: 0.9436\n",
            "Epoch 8/12\n",
            "60000/60000 [==============================] - 5s 76us/step - loss: 0.0654 - acc: 0.9797 - val_loss: 0.2251 - val_acc: 0.9418\n",
            "Epoch 9/12\n",
            "60000/60000 [==============================] - 5s 76us/step - loss: 0.0616 - acc: 0.9805 - val_loss: 0.2322 - val_acc: 0.9438\n",
            "Epoch 10/12\n",
            "60000/60000 [==============================] - 5s 76us/step - loss: 0.0559 - acc: 0.9826 - val_loss: 0.2293 - val_acc: 0.9461\n",
            "Epoch 11/12\n",
            "60000/60000 [==============================] - 5s 76us/step - loss: 0.0529 - acc: 0.9838 - val_loss: 0.2461 - val_acc: 0.9483\n",
            "Epoch 12/12\n",
            "60000/60000 [==============================] - 5s 75us/step - loss: 0.0520 - acc: 0.9834 - val_loss: 0.2173 - val_acc: 0.9481\n",
            "Test loss: 0.21728535584267228\n",
            "Test accuracy: 0.9481\n"
          ],
          "name": "stdout"
        }
      ]
    },
    {
      "cell_type": "code",
      "metadata": {
        "id": "gS9LY3ubtjtw",
        "colab_type": "code",
        "colab": {}
      },
      "source": [
        ""
      ],
      "execution_count": 0,
      "outputs": []
    },
    {
      "cell_type": "code",
      "metadata": {
        "id": "-y-aERtxuOhm",
        "colab_type": "code",
        "outputId": "bf648686-98fd-4f7a-c9c6-722d3b5c0d2c",
        "colab": {
          "base_uri": "https://localhost:8080/",
          "height": 533
        }
      },
      "source": [
        "import matplotlib.pyplot as plt\n",
        "import numpy as np\n",
        "import scipy\n",
        "\n",
        "x_example = x_train\n",
        "\n",
        "plt.matshow(x_example[0, :, :, 0])\n",
        "plt.show()\n",
        "\n",
        "pixel_example = np.zeros_like(x_example)\n",
        "pixel_example[0, 11, 11, 0] = 1.0\n",
        "\n",
        "plt.matshow(pixel_example[0, :, :, 0])\n",
        "plt.show()"
      ],
      "execution_count": 0,
      "outputs": [
        {
          "output_type": "display_data",
          "data": {
            "image/png": "[encoded data removed]",
            "text/plain": [
              "<Figure size 288x288 with 1 Axes>"
            ]
          },
          "metadata": {
            "tags": []
          }
        },
        {
          "output_type": "display_data",
          "data": {
            "image/png": "[encoded data removed]",
            "text/plain": [
              "<Figure size 288x288 with 1 Axes>"
            ]
          },
          "metadata": {
            "tags": []
          }
        }
      ]
    },
    {
      "cell_type": "code",
      "metadata": {
        "id": "_kTi_adUumBi",
        "colab_type": "code",
        "outputId": "cb51af4f-0d19-47ce-894a-01d98ce4dee1",
        "colab": {
          "base_uri": "https://localhost:8080/",
          "height": 68
        }
      },
      "source": [
        "model.predict(np.expand_dims(pixel_example[0], 0))"
      ],
      "execution_count": 0,
      "outputs": [
        {
          "output_type": "execute_result",
          "data": {
            "text/plain": [
              "array([[0.09326516, 0.09238607, 0.10286427, 0.11517524, 0.09259614,\n",
              "        0.09802628, 0.11375648, 0.10014336, 0.0924518 , 0.09933514]],\n",
              "      dtype=float32)"
            ]
          },
          "metadata": {
            "tags": []
          },
          "execution_count": 28
        }
      ]
    },
    {
      "cell_type": "code",
      "metadata": {
        "id": "YnlUsbZiu5Cs",
        "colab_type": "code",
        "colab": {}
      },
      "source": [
        "pixel_batch = []\n",
        "\n",
        "for i in range(28):\n",
        "  for j in range(28):\n",
        "    pix_img = np.zeros_like(x_train[0])\n",
        "    pix_img[i, j, 0] = 1.0 # Could also try random [0, 1] values\n",
        "    \n",
        "    pixel_batch.append(pix_img)\n",
        "    \n",
        "pixel_batch = np.stack(pixel_batch)"
      ],
      "execution_count": 0,
      "outputs": []
    },
    {
      "cell_type": "code",
      "metadata": {
        "id": "q0-gy5-33yKu",
        "colab_type": "code",
        "colab": {}
      },
      "source": [
        ""
      ],
      "execution_count": 0,
      "outputs": []
    },
    {
      "cell_type": "code",
      "metadata": {
        "id": "oYHmjzaS1eYi",
        "colab_type": "code",
        "outputId": "b6e3a198-2872-42b7-c155-ab55a40ffe88",
        "colab": {
          "base_uri": "https://localhost:8080/",
          "height": 292
        }
      },
      "source": [
        "pix_softmax = model.predict(pixel_batch).reshape([28, 28, 10])\n",
        "pix_predictions = model.predict_classes(pixel_batch).reshape([28, 28])\n",
        "\n",
        "def discrete_matshow(data):\n",
        "    #get discrete colormap\n",
        "    mx = 9\n",
        "    mn = 0\n",
        "    cmap = plt.get_cmap('RdBu', mx-mn+1)\n",
        "    # set limits .5 outside true range\n",
        "    mat = plt.matshow(data,cmap=cmap,vmin = mn-.5, vmax = mx+.5)\n",
        "    #tell the colorbar to tick at integers\n",
        "    cax = plt.colorbar(mat, ticks=np.arange(mn,mx+1))\n",
        "\n",
        "                       \n",
        "discrete_matshow(pix_predictions)\n",
        "plt.title(\"Pixel-wise class predictions\\n\")"
      ],
      "execution_count": 0,
      "outputs": [
        {
          "output_type": "execute_result",
          "data": {
            "text/plain": [
              "Text(0.5, 1.05, 'Pixel-wise class predictions\\n')"
            ]
          },
          "metadata": {
            "tags": []
          },
          "execution_count": 30
        },
        {
          "output_type": "display_data",
          "data": {
            "image/png": "[encoded data removed]",
            "text/plain": [
              "<Figure size 288x288 with 2 Axes>"
            ]
          },
          "metadata": {
            "tags": []
          }
        }
      ]
    },
    {
      "cell_type": "code",
      "metadata": {
        "id": "Sp3tOmzF1kA4",
        "colab_type": "code",
        "outputId": "e1cd7b00-c31c-4360-c079-6929ddad8159",
        "colab": {
          "base_uri": "https://localhost:8080/",
          "height": 550
        }
      },
      "source": [
        "softmax_std = np.std(pix_softmax, axis=2).reshape(28, 28)\n",
        "softmax_ent = -np.sum(pix_softmax * np.log(pix_softmax), axis=2)\n",
        "\n",
        "plt.matshow(softmax_std)\n",
        "plt.colorbar()\n",
        "plt.title(\"Softmax standard deviation\\n\")\n",
        "\n",
        "plt.matshow(softmax_ent)\n",
        "plt.colorbar()\n",
        "plt.title(\"Softmax entropy\\n\")"
      ],
      "execution_count": 0,
      "outputs": [
        {
          "output_type": "execute_result",
          "data": {
            "text/plain": [
              "Text(0.5, 1.05, 'Softmax entropy\\n')"
            ]
          },
          "metadata": {
            "tags": []
          },
          "execution_count": 31
        },
        {
          "output_type": "display_data",
          "data": {
            "image/png": "[encoded data removed]",
            "text/plain": [
              "<Figure size 288x288 with 2 Axes>"
            ]
          },
          "metadata": {
            "tags": []
          }
        },
        {
          "output_type": "display_data",
          "data": {
            "image/png": "[encoded data removed]",
            "text/plain": [
              "<Figure size 288x288 with 2 Axes>"
            ]
          },
          "metadata": {
            "tags": []
          }
        }
      ]
    },
    {
      "cell_type": "code",
      "metadata": {
        "id": "eyiSDKpt3JE3",
        "colab_type": "code",
        "outputId": "5c2da27b-aa09-4fa9-a8b3-eb1d20d4af51",
        "colab": {
          "base_uri": "https://localhost:8080/",
          "height": 939
        }
      },
      "source": [
        "def hinton(matrix, max_weight=None, ax=None):\n",
        "    \"\"\"Draw Hinton diagram for visualizing a weight matrix.\"\"\"\n",
        "    ax = ax if ax is not None else plt.gca()\n",
        "\n",
        "    if not max_weight:\n",
        "        max_weight = 2 ** np.ceil(np.log(np.abs(matrix).max()) / np.log(2))\n",
        "\n",
        "    ax.patch.set_facecolor('gray')\n",
        "    ax.set_aspect('equal', 'box')\n",
        "    ax.xaxis.set_major_locator(plt.NullLocator())\n",
        "    ax.yaxis.set_major_locator(plt.NullLocator())\n",
        "\n",
        "    for (x, y), w in np.ndenumerate(matrix):\n",
        "        color = 'white' if w > 0 else 'black'\n",
        "        size = np.sqrt(np.abs(w) / max_weight)\n",
        "        rect = plt.Rectangle([x - size / 2, y - size / 2], size, size,\n",
        "                             facecolor=color, edgecolor=color)\n",
        "        ax.add_patch(rect)\n",
        "\n",
        "    ax.autoscale_view()\n",
        "    ax.invert_yaxis()\n",
        "    \n",
        "def shift_scale(x):\n",
        "  \n",
        "  mu = np.mean(x)\n",
        "  sig = np.std(x)\n",
        "  \n",
        "  return (x - mu) / sig\n",
        "    \n",
        "print('Among each class in isolation, ' +\n",
        "      'what regions correspond to higher or lower z-scored softmax outputs?')\n",
        "fig, ax = plt.subplots(2, 5, figsize=(18, 8))\n",
        "for i in range(10):\n",
        "  ax[i // 5, i % 5].set_title('Class {}'.format(i))\n",
        "  hinton(shift_scale(pix_softmax[:, :, i]), ax=ax[i // 5, i % 5])\n",
        "  \n",
        "\n",
        "\n",
        "print('How about when we z-score the outputs globally?')\n",
        "fig, ax = plt.subplots(2, 5, figsize=(18, 8))\n",
        "for i in range(10):\n",
        "  ax[i // 5, i % 5].set_title('Class {}'.format(i))\n",
        "  hinton((pix_softmax[:, :, i] - np.mean(pix_softmax)) / np.std(pix_softmax), \n",
        "         ax=ax[i // 5, i % 5])\n",
        "  \n",
        "# Among each class in isolation, what regions in single-pixel space \n",
        "# yield higher probabilities"
      ],
      "execution_count": 0,
      "outputs": [
        {
          "output_type": "stream",
          "text": [
            "Among each class in isolation, what regions correspond to higher or lower z-scored softmax outputs?\n",
            "How about when we z-score the outputs globally?\n"
          ],
          "name": "stdout"
        },
        {
          "output_type": "display_data",
          "data": {
            "image/png": "[encoded data removed]",
            "text/plain": [
              "<Figure size 1296x576 with 10 Axes>"
            ]
          },
          "metadata": {
            "tags": []
          }
        },
        {
          "output_type": "display_data",
          "data": {
            "image/png": "[encoded data removed]",
            "text/plain": [
              "<Figure size 1296x576 with 10 Axes>"
            ]
          },
          "metadata": {
            "tags": []
          }
        }
      ]
    },
    {
      "cell_type": "code",
      "metadata": {
        "id": "jTlZUomcHKrZ",
        "colab_type": "code",
        "colab": {}
      },
      "source": [
        "import numpy as np\n",
        "import matplotlib.pyplot as plt\n",
        "from matplotlib import animation, rc\n",
        "from IPython.display import HTML\n",
        "\n",
        "# First set up the figure, the axes, and the plot element\n",
        "fig, ax = plt.subplots(1, 2)\n",
        "plt.subplots_adjust(right=0.9)\n",
        "plt.close()\n",
        "\n",
        "preds_lin = pix_predictions.reshape(784)\n",
        "pix_softmax_lin = pix_softmax.reshape(784, 10)\n",
        "\n",
        "# animation function: this is called sequentially\n",
        "def animate(i):\n",
        "  ax[0].set_title('Prediction: {}\\n'.format(preds_lin[i]))\n",
        "  p = ax[0].matshow(pixel_batch[i, :, :, 0])\n",
        "  \n",
        "  ax[1].set_title('Softmax output')\n",
        "  ax[1].set_xticks(np.arange(0, 10, step=1))\n",
        "  barcollection = ax[1].bar(np.arange(10), pix_softmax_lin[i], color='b')\n",
        "  ax[1].yaxis.tick_right()\n",
        "  for j, b in enumerate(barcollection):\n",
        "    b.set_height(pix_softmax_lin[i, j])\n",
        "  \n",
        "  return [p]\n",
        "\n",
        "anim = animation.FuncAnimation(fig, animate, frames=28*28, \n",
        "                               interval=50, blit=True)\n",
        "\n",
        "rc('animation', html='jshtml')\n",
        "anim"
      ],
      "execution_count": 0,
      "outputs": []
    },
    {
      "cell_type": "code",
      "metadata": {
        "id": "mxwy32gZLQxA",
        "colab_type": "code",
        "colab": {}
      },
      "source": [
        ""
      ],
      "execution_count": 0,
      "outputs": []
    },
    {
      "cell_type": "code",
      "metadata": {
        "id": "0ny4sjw5MGOZ",
        "colab_type": "code",
        "outputId": "dfa3212d-34b6-4922-c3cf-099519948d9e",
        "colab": {
          "base_uri": "https://localhost:8080/",
          "height": 34
        }
      },
      "source": [
        "x_rand = np.random.randint(0, 1, (60000, 28, 28, 1))\n",
        "y_rand = model.predict(x_rand)\n",
        "\n",
        "x_rand.shape"
      ],
      "execution_count": 0,
      "outputs": [
        {
          "output_type": "execute_result",
          "data": {
            "text/plain": [
              "(60000, 28, 28, 1)"
            ]
          },
          "metadata": {
            "tags": []
          },
          "execution_count": 33
        }
      ]
    },
    {
      "cell_type": "code",
      "metadata": {
        "id": "ppIR7WZh0kMy",
        "colab_type": "code",
        "outputId": "7a3d49b0-fbfd-4415-880d-6adce9207b65",
        "colab": {
          "base_uri": "https://localhost:8080/",
          "height": 34
        }
      },
      "source": [
        "x_rand = np.random.binomial(1, 0.9, (60000, 28, 28, 1))\n",
        "y_rand = model.predict(x_rand)\n",
        "\n",
        "x_rand.shape"
      ],
      "execution_count": 0,
      "outputs": [
        {
          "output_type": "execute_result",
          "data": {
            "text/plain": [
              "(60000, 28, 28, 1)"
            ]
          },
          "metadata": {
            "tags": []
          },
          "execution_count": 34
        }
      ]
    },
    {
      "cell_type": "code",
      "metadata": {
        "id": "JeJ4hgZv4Him",
        "colab_type": "code",
        "outputId": "6ccdd8cd-8ec0-4dd4-e58e-1da197894f1c",
        "colab": {
          "base_uri": "https://localhost:8080/",
          "height": 34
        }
      },
      "source": [
        "x_rand = np.random.gumbel(size=(60000, 28, 28, 1))\n",
        "y_rand = model.predict(x_rand)\n",
        "\n",
        "x_rand.shape"
      ],
      "execution_count": 0,
      "outputs": [
        {
          "output_type": "execute_result",
          "data": {
            "text/plain": [
              "(60000, 28, 28, 1)"
            ]
          },
          "metadata": {
            "tags": []
          },
          "execution_count": 35
        }
      ]
    },
    {
      "cell_type": "code",
      "metadata": {
        "id": "xdmazYQWhqnI",
        "colab_type": "code",
        "colab": {}
      },
      "source": [
        "x_rand = []\n",
        "y_rand = []\n",
        "for p in np.arange(0, 1, 0.1):\n",
        "  x_rand.append(np.random.binomial(1, p, (50000, 28, 28, 1)))\n",
        "  y_rand.append(model.predict(x_rand[-1]))\n",
        "\n",
        "x_rand = np.vstack(x_rand)\n",
        "y_rand = np.vstack(y_rand)"
      ],
      "execution_count": 0,
      "outputs": []
    },
    {
      "cell_type": "code",
      "metadata": {
        "id": "jlTBrdEai9KW",
        "colab_type": "code",
        "outputId": "a4254bfd-41b9-419f-fadb-fe11f6423184",
        "colab": {
          "base_uri": "https://localhost:8080/",
          "height": 34
        }
      },
      "source": [
        "y_rand.shape"
      ],
      "execution_count": 0,
      "outputs": [
        {
          "output_type": "execute_result",
          "data": {
            "text/plain": [
              "(500000, 10)"
            ]
          },
          "metadata": {
            "tags": []
          },
          "execution_count": 37
        }
      ]
    },
    {
      "cell_type": "code",
      "metadata": {
        "id": "gJ6XSV9M1uuV",
        "colab_type": "code",
        "outputId": "2d844d19-5e2a-43d6-81d2-fc66b75c4653",
        "colab": {
          "base_uri": "https://localhost:8080/",
          "height": 281
        }
      },
      "source": [
        "plt.xticks(np.arange(0, 10, step=1))\n",
        "plt.title('Class distribution for fake data')\n",
        "plt.hist(np.argmax(y_rand, axis=1))\n",
        "plt.show()"
      ],
      "execution_count": 0,
      "outputs": [
        {
          "output_type": "display_data",
          "data": {
            "image/png": "[encoded data removed]",
            "text/plain": [
              "<Figure size 432x288 with 1 Axes>"
            ]
          },
          "metadata": {
            "tags": []
          }
        }
      ]
    },
    {
      "cell_type": "code",
      "metadata": {
        "id": "3T6tS4Nvn0K9",
        "colab_type": "code",
        "outputId": "f7cf618c-e84f-44e5-dbd0-8f4c0f8c3da8",
        "colab": {
          "base_uri": "https://localhost:8080/",
          "height": 34
        }
      },
      "source": [
        "np.sum(np.argmax(y_rand, axis=1) == 8)"
      ],
      "execution_count": 0,
      "outputs": [
        {
          "output_type": "execute_result",
          "data": {
            "text/plain": [
              "597"
            ]
          },
          "metadata": {
            "tags": []
          },
          "execution_count": 44
        }
      ]
    },
    {
      "cell_type": "code",
      "metadata": {
        "id": "YTu_9zry4dI3",
        "colab_type": "code",
        "colab": {}
      },
      "source": [
        ""
      ],
      "execution_count": 0,
      "outputs": []
    },
    {
      "cell_type": "code",
      "metadata": {
        "id": "WSYs0vvWvYr9",
        "colab_type": "code",
        "outputId": "cda6ec3d-da4a-47e6-85ee-fc487c999eed",
        "colab": {
          "base_uri": "https://localhost:8080/",
          "height": 68
        }
      },
      "source": [
        "import tensorflow as tf\n",
        "import datetime, os\n",
        "from sklearn.utils.class_weight import compute_class_weight\n",
        "\n",
        "class_weights = compute_class_weight('balanced', np.unique(np.argmax(y_rand, axis=1)), np.argmax(y_rand, axis=1), )\n",
        "class_weights"
      ],
      "execution_count": 0,
      "outputs": [
        {
          "output_type": "execute_result",
          "data": {
            "text/plain": [
              "array([1.36150746e+00, 3.20102433e+01, 1.16279070e+03, 3.25179987e-01,\n",
              "       5.01002004e+01, 2.63157895e+03, 6.94483027e-01, 2.23190372e-01,\n",
              "       8.37520938e+01, 4.86570650e+00])"
            ]
          },
          "metadata": {
            "tags": []
          },
          "execution_count": 47
        }
      ]
    },
    {
      "cell_type": "code",
      "metadata": {
        "id": "-eqaZFNG5Brw",
        "colab_type": "code",
        "colab": {}
      },
      "source": [
        ""
      ],
      "execution_count": 0,
      "outputs": []
    },
    {
      "cell_type": "code",
      "metadata": {
        "id": "siwT11dhyvFe",
        "colab_type": "code",
        "outputId": "369d3e60-bbef-4e7a-8149-0c43ee2b3314",
        "colab": {
          "base_uri": "https://localhost:8080/",
          "height": 1819
        }
      },
      "source": [
        "'''Trains a simple convnet on the MNIST dataset.\n",
        "\n",
        "Gets to 99.25% test accuracy after 12 epochs\n",
        "(there is still a lot of margin for parameter tuning).\n",
        "16 seconds per epoch on a GRID K520 GPU.\n",
        "'''\n",
        "\n",
        "from __future__ import print_function\n",
        "import keras\n",
        "from keras.datasets import mnist\n",
        "from keras.models import Sequential\n",
        "from keras.layers import Dense, Dropout, Flatten\n",
        "from keras.layers import Conv2D, MaxPooling2D\n",
        "from keras import backend as K\n",
        "\n",
        "batch_size = 128\n",
        "num_classes = 10\n",
        "epochs = 12\n",
        "\n",
        "# input image dimensions\n",
        "img_rows, img_cols = 28, 28\n",
        "\n",
        "# the data, split between train and test sets\n",
        "#(x_train, y_train) = (pixel_batch, pix_softmax_lin)\n",
        "(x_train, y_train) = (x_rand, y_rand)\n",
        "\n",
        "if K.image_data_format() == 'channels_first':\n",
        "    x_train = x_train.reshape(x_train.shape[0], 1, img_rows, img_cols)\n",
        "    input_shape = (1, img_rows, img_cols)\n",
        "else:\n",
        "    x_train = x_train.reshape(x_train.shape[0], img_rows, img_cols, 1)\n",
        "    input_shape = (img_rows, img_cols, 1)\n",
        "\n",
        "x_train = x_train.astype('float32')\n",
        "print('x_train shape:', x_train.shape)\n",
        "print(x_train.shape[0], 'train samples')\n",
        "print(x_test.shape[0], 'test samples')\n",
        "\n",
        "\n",
        "# convert class vectors to binary class matrices\n",
        "#y_train = keras.utils.to_categorical(y_train, num_classes)\n",
        "#y_test = keras.utils.to_categorical(y_test, num_classes)\n",
        "\n",
        "model_steal = Sequential()\n",
        "model_steal.add(Conv2D(32, kernel_size=(3, 3),\n",
        "                 activation='relu',\n",
        "                 input_shape=input_shape))\n",
        "model_steal.add(Conv2D(64, (3, 3), activation='relu'))\n",
        "model_steal.add(MaxPooling2D(pool_size=(2, 2)))\n",
        "#model_steal.add(Dropout(0.25))\n",
        "model_steal.add(Flatten())\n",
        "model_steal.add(Dense(128, activation='relu'))\n",
        "#model_steal.add(Dropout(0.5))\n",
        "model_steal.add(Dense(num_classes, activation='softmax'))\n",
        "\n",
        "\n",
        "logdir = os.path.join(\"logs\", datetime.datetime.now().strftime(\"%Y%m%d-%H%M%S\"))\n",
        "tensorboard_callback = tf.keras.callbacks.TensorBoard(logdir)\n",
        "\n",
        "model_steal.compile(loss=keras.losses.categorical_crossentropy,\n",
        "              optimizer=keras.optimizers.Adadelta(),\n",
        "              metrics=['accuracy'])\n",
        "\n",
        "model_steal.fit(x_train, y_train,\n",
        "               batch_size=batch_size,\n",
        "               epochs=50,\n",
        "               verbose=1,\n",
        "               validation_data=(x_test, y_test), \n",
        "               class_weight=class_weights,\n",
        "               callbacks=[tensorboard_callback])\n",
        "\n",
        "\n",
        "score = model_steal.evaluate(x_test, y_test, verbose=0)\n",
        "print('Test loss:', score[0])\n",
        "print('Test accuracy:', score[1])\n"
      ],
      "execution_count": 0,
      "outputs": [
        {
          "output_type": "stream",
          "text": [
            "x_train shape: (500000, 28, 28, 1)\n",
            "500000 train samples\n",
            "10000 test samples\n",
            "Train on 500000 samples, validate on 10000 samples\n",
            "Epoch 1/50\n",
            "500000/500000 [==============================] - 34s 68us/step - loss: 1.9613 - acc: 0.7432 - val_loss: 1.7669 - val_acc: 0.3894\n",
            "Epoch 2/50\n",
            "500000/500000 [==============================] - 32s 65us/step - loss: 1.9343 - acc: 0.8105 - val_loss: 1.3816 - val_acc: 0.5592\n",
            "Epoch 3/50\n",
            "500000/500000 [==============================] - 33s 66us/step - loss: 1.9292 - acc: 0.8344 - val_loss: 1.1786 - val_acc: 0.6239\n",
            "Epoch 4/50\n",
            "500000/500000 [==============================] - 32s 65us/step - loss: 1.9264 - acc: 0.8461 - val_loss: 1.1425 - val_acc: 0.6347\n",
            "Epoch 5/50\n",
            "500000/500000 [==============================] - 33s 66us/step - loss: 1.9246 - acc: 0.8559 - val_loss: 1.0198 - val_acc: 0.6684\n",
            "Epoch 6/50\n",
            "500000/500000 [==============================] - 32s 65us/step - loss: 1.9234 - acc: 0.8651 - val_loss: 0.9536 - val_acc: 0.6875\n",
            "Epoch 7/50\n",
            "500000/500000 [==============================] - 32s 64us/step - loss: 1.9224 - acc: 0.8727 - val_loss: 0.9510 - val_acc: 0.6836\n",
            "Epoch 8/50\n",
            "500000/500000 [==============================] - 33s 66us/step - loss: 1.9214 - acc: 0.8807 - val_loss: 0.8667 - val_acc: 0.7192\n",
            "Epoch 9/50\n",
            "500000/500000 [==============================] - 32s 64us/step - loss: 1.9208 - acc: 0.8857 - val_loss: 0.8359 - val_acc: 0.7314\n",
            "Epoch 10/50\n",
            "500000/500000 [==============================] - 33s 67us/step - loss: 1.9201 - acc: 0.8915 - val_loss: 0.8231 - val_acc: 0.7325\n",
            "Epoch 11/50\n",
            "500000/500000 [==============================] - 33s 66us/step - loss: 1.9196 - acc: 0.8955 - val_loss: 0.7907 - val_acc: 0.7451\n",
            "Epoch 12/50\n",
            "500000/500000 [==============================] - 32s 64us/step - loss: 1.9192 - acc: 0.8988 - val_loss: 0.7667 - val_acc: 0.7531\n",
            "Epoch 13/50\n",
            "500000/500000 [==============================] - 32s 65us/step - loss: 1.9188 - acc: 0.9024 - val_loss: 0.7498 - val_acc: 0.7576\n",
            "Epoch 14/50\n",
            "500000/500000 [==============================] - 33s 65us/step - loss: 1.9186 - acc: 0.9039 - val_loss: 0.7157 - val_acc: 0.7703\n",
            "Epoch 15/50\n",
            "500000/500000 [==============================] - 32s 64us/step - loss: 1.9181 - acc: 0.9080 - val_loss: 0.7047 - val_acc: 0.7771\n",
            "Epoch 16/50\n",
            "500000/500000 [==============================] - 33s 65us/step - loss: 1.9180 - acc: 0.9089 - val_loss: 0.6912 - val_acc: 0.7834\n",
            "Epoch 17/50\n",
            "500000/500000 [==============================] - 32s 64us/step - loss: 1.9176 - acc: 0.9119 - val_loss: 0.6883 - val_acc: 0.7822\n",
            "Epoch 18/50\n",
            "500000/500000 [==============================] - 32s 65us/step - loss: 1.9174 - acc: 0.9131 - val_loss: 0.6733 - val_acc: 0.7903\n",
            "Epoch 19/50\n",
            "500000/500000 [==============================] - 33s 65us/step - loss: 1.9172 - acc: 0.9147 - val_loss: 0.6613 - val_acc: 0.7978\n",
            "Epoch 20/50\n",
            "500000/500000 [==============================] - 33s 66us/step - loss: 1.9170 - acc: 0.9162 - val_loss: 0.6626 - val_acc: 0.7931\n",
            "Epoch 21/50\n",
            "500000/500000 [==============================] - 33s 65us/step - loss: 1.9168 - acc: 0.9172 - val_loss: 0.6389 - val_acc: 0.8064\n",
            "Epoch 22/50\n",
            "500000/500000 [==============================] - 32s 64us/step - loss: 1.9167 - acc: 0.9191 - val_loss: 0.6454 - val_acc: 0.8009\n",
            "Epoch 23/50\n",
            "500000/500000 [==============================] - 33s 65us/step - loss: 1.9165 - acc: 0.9207 - val_loss: 0.6447 - val_acc: 0.8027\n",
            "Epoch 24/50\n",
            "500000/500000 [==============================] - 32s 65us/step - loss: 1.9164 - acc: 0.9216 - val_loss: 0.6574 - val_acc: 0.7953\n",
            "Epoch 25/50\n",
            "500000/500000 [==============================] - 32s 64us/step - loss: 1.9161 - acc: 0.9237 - val_loss: 0.6434 - val_acc: 0.8009\n",
            "Epoch 26/50\n",
            "500000/500000 [==============================] - 33s 65us/step - loss: 1.9161 - acc: 0.9235 - val_loss: 0.6428 - val_acc: 0.8007\n",
            "Epoch 27/50\n",
            "500000/500000 [==============================] - 32s 64us/step - loss: 1.9160 - acc: 0.9252 - val_loss: 0.6311 - val_acc: 0.8058\n",
            "Epoch 28/50\n",
            "500000/500000 [==============================] - 34s 68us/step - loss: 1.9159 - acc: 0.9261 - val_loss: 0.6265 - val_acc: 0.8080\n",
            "Epoch 29/50\n",
            "500000/500000 [==============================] - 33s 67us/step - loss: 1.9158 - acc: 0.9269 - val_loss: 0.6204 - val_acc: 0.8097\n",
            "Epoch 30/50\n",
            "500000/500000 [==============================] - 33s 66us/step - loss: 1.9157 - acc: 0.9278 - val_loss: 0.6189 - val_acc: 0.8116\n",
            "Epoch 31/50\n",
            "500000/500000 [==============================] - 33s 67us/step - loss: 1.9156 - acc: 0.9281 - val_loss: 0.6211 - val_acc: 0.8102\n",
            "Epoch 32/50\n",
            "500000/500000 [==============================] - 32s 64us/step - loss: 1.9155 - acc: 0.9287 - val_loss: 0.6077 - val_acc: 0.8146\n",
            "Epoch 33/50\n",
            "500000/500000 [==============================] - 32s 65us/step - loss: 1.9155 - acc: 0.9293 - val_loss: 0.6075 - val_acc: 0.8142\n",
            "Epoch 34/50\n",
            "500000/500000 [==============================] - 32s 64us/step - loss: 1.9154 - acc: 0.9299 - val_loss: 0.6069 - val_acc: 0.8150\n",
            "Epoch 35/50\n",
            "500000/500000 [==============================] - 32s 64us/step - loss: 1.9154 - acc: 0.9293 - val_loss: 0.6069 - val_acc: 0.8136\n",
            "Epoch 36/50\n",
            "500000/500000 [==============================] - 32s 65us/step - loss: 1.9153 - acc: 0.9311 - val_loss: 0.6087 - val_acc: 0.8115\n",
            "Epoch 37/50\n",
            "500000/500000 [==============================] - 32s 64us/step - loss: 1.9152 - acc: 0.9313 - val_loss: 0.6065 - val_acc: 0.8134\n",
            "Epoch 38/50\n",
            "500000/500000 [==============================] - 32s 65us/step - loss: 1.9151 - acc: 0.9319 - val_loss: 0.5974 - val_acc: 0.8180\n",
            "Epoch 39/50\n",
            "500000/500000 [==============================] - 33s 66us/step - loss: 1.9151 - acc: 0.9326 - val_loss: 0.5902 - val_acc: 0.8205\n",
            "Epoch 40/50\n",
            "500000/500000 [==============================] - 32s 64us/step - loss: 1.9150 - acc: 0.9326 - val_loss: 0.5991 - val_acc: 0.8154\n",
            "Epoch 41/50\n",
            "500000/500000 [==============================] - 32s 65us/step - loss: 1.9150 - acc: 0.9326 - val_loss: 0.5873 - val_acc: 0.8213\n",
            "Epoch 42/50\n",
            "500000/500000 [==============================] - 32s 64us/step - loss: 1.9149 - acc: 0.9339 - val_loss: 0.5917 - val_acc: 0.8189\n",
            "Epoch 43/50\n",
            "500000/500000 [==============================] - 32s 65us/step - loss: 1.9150 - acc: 0.9331 - val_loss: 0.6020 - val_acc: 0.8152\n",
            "Epoch 44/50\n",
            "500000/500000 [==============================] - 32s 64us/step - loss: 1.9149 - acc: 0.9339 - val_loss: 0.5910 - val_acc: 0.8189\n",
            "Epoch 45/50\n",
            "500000/500000 [==============================] - 32s 64us/step - loss: 1.9148 - acc: 0.9346 - val_loss: 0.5880 - val_acc: 0.8207\n",
            "Epoch 46/50\n",
            "500000/500000 [==============================] - 32s 65us/step - loss: 1.9148 - acc: 0.9348 - val_loss: 0.5896 - val_acc: 0.8202\n",
            "Epoch 47/50\n",
            "500000/500000 [==============================] - 32s 64us/step - loss: 1.9148 - acc: 0.9347 - val_loss: 0.5751 - val_acc: 0.8260\n",
            "Epoch 48/50\n",
            "500000/500000 [==============================] - 33s 66us/step - loss: 1.9147 - acc: 0.9353 - val_loss: 0.5844 - val_acc: 0.8210\n",
            "Epoch 49/50\n",
            "500000/500000 [==============================] - 35s 71us/step - loss: 1.9147 - acc: 0.9351 - val_loss: 0.5782 - val_acc: 0.8245\n",
            "Epoch 50/50\n",
            "500000/500000 [==============================] - 33s 66us/step - loss: 1.9146 - acc: 0.9358 - val_loss: 0.5851 - val_acc: 0.8193\n",
            "Test loss: 0.5850974576473236\n",
            "Test accuracy: 0.8193\n"
          ],
          "name": "stdout"
        }
      ]
    },
    {
      "cell_type": "code",
      "metadata": {
        "id": "t_Qe5FtvzjBm",
        "colab_type": "code",
        "outputId": "3f393f09-42a4-4d2e-9a25-205b428fd288",
        "colab": {
          "base_uri": "https://localhost:8080/",
          "height": 292
        }
      },
      "source": [
        "plt.matshow(x_train[50000, :, :, 0])"
      ],
      "execution_count": 0,
      "outputs": [
        {
          "output_type": "execute_result",
          "data": {
            "text/plain": [
              "<matplotlib.image.AxesImage at 0x7f99eb8a82b0>"
            ]
          },
          "metadata": {
            "tags": []
          },
          "execution_count": 49
        },
        {
          "output_type": "display_data",
          "data": {
            "image/png": "[encoded data removed]",
            "text/plain": [
              "<Figure size 288x288 with 1 Axes>"
            ]
          },
          "metadata": {
            "tags": []
          }
        }
      ]
    },
    {
      "cell_type": "code",
      "metadata": {
        "id": "v_g2PLOYjx3G",
        "colab_type": "code",
        "outputId": "ba281059-65d6-4285-a570-9bfe15285733",
        "colab": {
          "base_uri": "https://localhost:8080/",
          "height": 264
        }
      },
      "source": [
        "from sklearn.metrics import confusion_matrix\n",
        "\n",
        "y_pred = model_steal.predict(x_test)\n",
        "\n",
        "matrix = confusion_matrix(y_test.argmax(axis=1), y_pred.argmax(axis=1))\n",
        "plt.matshow(matrix)\n",
        "plt.colorbar()\n",
        "plt.show()"
      ],
      "execution_count": 0,
      "outputs": [
        {
          "output_type": "display_data",
          "data": {
            "image/png": "[encoded data removed]",
            "text/plain": [
              "<Figure size 288x288 with 2 Axes>"
            ]
          },
          "metadata": {
            "tags": []
          }
        }
      ]
    },
    {
      "cell_type": "code",
      "metadata": {
        "id": "OPwVqKxYxN9U",
        "colab_type": "code",
        "outputId": "21b55720-66be-43ef-99fb-6f8b2a2d3d61",
        "colab": {
          "base_uri": "https://localhost:8080/",
          "height": 232
        }
      },
      "source": [
        "from itertools import cycle\n",
        "from sklearn.metrics import precision_recall_curve\n",
        "from sklearn.metrics import average_precision_score\n",
        "\n",
        "n_classes = 10\n",
        "# For each class\n",
        "precision = dict()\n",
        "recall = dict()\n",
        "average_precision = dict()\n",
        "for i in range(n_classes):\n",
        "    precision[i], recall[i], _ = precision_recall_curve(y_test[:, i],\n",
        "                                                        y_pred[:, i])\n",
        "    average_precision[i] = average_precision_score(y_test[:, i], y_pred[:, i])\n",
        "\n",
        "# A \"micro-average\": quantifying score on all classes jointly\n",
        "precision[\"micro\"], recall[\"micro\"], _ = precision_recall_curve(y_test.ravel(),\n",
        "    y_pred.ravel())\n",
        "average_precision[\"micro\"] = average_precision_score(y_test, y_pred,\n",
        "                                                     average=\"micro\")\n",
        "print('Average precision score, micro-averaged over all classes: {0:0.2f}'\n",
        "      .format(average_precision[\"micro\"]))\n",
        "\n",
        "\n",
        "\n",
        "plt.figure(figsize=(10, 10))\n",
        "plt.step(recall['micro'], precision['micro'], color='b', alpha=0.2,\n",
        "         where='post')\n",
        "plt.fill_between(recall[\"micro\"], precision[\"micro\"], alpha=0.2, color='b')\n",
        "\n",
        "plt.xlabel('Recall')\n",
        "plt.ylabel('Precision')\n",
        "plt.ylim([0.0, 1.05])\n",
        "plt.xlim([0.0, 1.0])\n",
        "plt.title(\n",
        "    'Average precision score, micro-averaged over all classes: AP={0:0.2f}'\n",
        "    .format(average_precision[\"micro\"]))\n",
        "\n",
        "\n",
        "\n",
        "# setup plot details\n",
        "colors = cycle(['navy', 'turquoise', 'darkorange', 'cornflowerblue', 'teal'])\n",
        "\n",
        "plt.figure(figsize=(10, 10))\n",
        "f_scores = np.linspace(0.2, 0.8, num=4)\n",
        "lines = []\n",
        "labels = []\n",
        "for f_score in f_scores:\n",
        "    x = np.linspace(0.01, 1)\n",
        "    y = f_score * x / (2 * x - f_score)\n",
        "    l, = plt.plot(x[y >= 0], y[y >= 0], color='gray', alpha=0.2)\n",
        "    plt.annotate('f1={0:0.1f}'.format(f_score), xy=(0.9, y[45] + 0.02))\n",
        "\n",
        "lines.append(l)\n",
        "labels.append('iso-f1 curves')\n",
        "l, = plt.plot(recall[\"micro\"], precision[\"micro\"], color='gold', lw=2)\n",
        "lines.append(l)\n",
        "labels.append('micro-average Precision-recall (area = {0:0.2f})'\n",
        "              ''.format(average_precision[\"micro\"]))\n",
        "\n",
        "for i, color in zip(range(n_classes), colors):\n",
        "    l, = plt.plot(recall[i], precision[i], color=color, lw=2)\n",
        "    lines.append(l)\n",
        "    labels.append('Precision-recall for class {0} (area = {1:0.2f})'\n",
        "                  ''.format(i, average_precision[i]))\n",
        "\n",
        "fig = plt.gcf()\n",
        "fig.subplots_adjust(bottom=0.25)\n",
        "plt.xlim([0.0, 1.0])\n",
        "plt.ylim([0.0, 1.05])\n",
        "plt.xlabel('Recall')\n",
        "plt.ylabel('Precision')\n",
        "plt.title('Extension of Precision-Recall curve to multi-class')\n",
        "plt.legend(lines, labels, loc=(0, -.38), prop=dict(size=14))\n",
        "\n",
        "\n",
        "plt.show()"
      ],
      "execution_count": 0,
      "outputs": [
        {
          "output_type": "error",
          "ename": "IndexError",
          "evalue": "ignored",
          "traceback": [
            "\u001b[0;31m---------------------------------------------------------------------------\u001b[0m",
            "\u001b[0;31mIndexError\u001b[0m                                Traceback (most recent call last)",
            "\u001b[0;32m<ipython-input-56-ee5caf98a726>\u001b[0m in \u001b[0;36m<module>\u001b[0;34m()\u001b[0m\n\u001b[1;32m      9\u001b[0m \u001b[0maverage_precision\u001b[0m \u001b[0;34m=\u001b[0m \u001b[0mdict\u001b[0m\u001b[0;34m(\u001b[0m\u001b[0;34m)\u001b[0m\u001b[0;34m\u001b[0m\u001b[0;34m\u001b[0m\u001b[0m\n\u001b[1;32m     10\u001b[0m \u001b[0;32mfor\u001b[0m \u001b[0mi\u001b[0m \u001b[0;32min\u001b[0m \u001b[0mrange\u001b[0m\u001b[0;34m(\u001b[0m\u001b[0mn_classes\u001b[0m\u001b[0;34m)\u001b[0m\u001b[0;34m:\u001b[0m\u001b[0;34m\u001b[0m\u001b[0;34m\u001b[0m\u001b[0m\n\u001b[0;32m---> 11\u001b[0;31m     precision[i], recall[i], _ = precision_recall_curve(y_test[:, i],\n\u001b[0m\u001b[1;32m     12\u001b[0m                                                         y_pred[:, i])\n\u001b[1;32m     13\u001b[0m     \u001b[0maverage_precision\u001b[0m\u001b[0;34m[\u001b[0m\u001b[0mi\u001b[0m\u001b[0;34m]\u001b[0m \u001b[0;34m=\u001b[0m \u001b[0maverage_precision_score\u001b[0m\u001b[0;34m(\u001b[0m\u001b[0my_test\u001b[0m\u001b[0;34m[\u001b[0m\u001b[0;34m:\u001b[0m\u001b[0;34m,\u001b[0m \u001b[0mi\u001b[0m\u001b[0;34m]\u001b[0m\u001b[0;34m,\u001b[0m \u001b[0my_pred\u001b[0m\u001b[0;34m[\u001b[0m\u001b[0;34m:\u001b[0m\u001b[0;34m,\u001b[0m \u001b[0mi\u001b[0m\u001b[0;34m]\u001b[0m\u001b[0;34m)\u001b[0m\u001b[0;34m\u001b[0m\u001b[0;34m\u001b[0m\u001b[0m\n",
            "\u001b[0;31mIndexError\u001b[0m: too many indices for array"
          ]
        }
      ]
    },
    {
      "cell_type": "code",
      "metadata": {
        "id": "Qn-xaQCGxWdX",
        "colab_type": "code",
        "colab": {}
      },
      "source": [
        ""
      ],
      "execution_count": 0,
      "outputs": []
    },
    {
      "cell_type": "code",
      "metadata": {
        "id": "TJfx0X2vxXq1",
        "colab_type": "code",
        "colab": {}
      },
      "source": [
        ""
      ],
      "execution_count": 0,
      "outputs": []
    },
    {
      "cell_type": "code",
      "metadata": {
        "id": "zcKUreufxdyx",
        "colab_type": "code",
        "colab": {}
      },
      "source": [
        ""
      ],
      "execution_count": 0,
      "outputs": []
    },
    {
      "cell_type": "code",
      "metadata": {
        "id": "sceQOrbsx6nk",
        "colab_type": "code",
        "colab": {}
      },
      "source": [
        ""
      ],
      "execution_count": 0,
      "outputs": []
    },
    {
      "cell_type": "code",
      "metadata": {
        "id": "gmW2pcp3yOsf",
        "colab_type": "code",
        "colab": {}
      },
      "source": [
        "x_train = np.load('kmnist-train-imgs.npz')['arr_0']\n",
        "x_test = np.load('kmnist-test-imgs.npz')['arr_0']\n",
        "y_train = np.load('kmnist-train-labels.npz')['arr_0']\n",
        "y_test = np.load('kmnist-test-labels.npz')['arr_0']"
      ],
      "execution_count": 0,
      "outputs": []
    },
    {
      "cell_type": "code",
      "metadata": {
        "id": "gKdW9QS_ymiF",
        "colab_type": "code",
        "outputId": "2e1ab387-b612-49ee-8743-557d6dfc495b",
        "colab": {
          "base_uri": "https://localhost:8080/",
          "height": 281
        }
      },
      "source": [
        "n_pix_i = []\n",
        "\n",
        "for i in range(10):\n",
        "  n_pix_i.append([np.sum(x) for x in x_train_tmp[(y_train_tmp == i)] / 255.0])\n",
        "  plt.hist(n_pix_i[-1], label='{}'.format(i))\n",
        "  \n",
        "plt.title('Pixel count distributions per class')\n",
        "plt.legend()\n",
        "plt.show()"
      ],
      "execution_count": 0,
      "outputs": [
        {
          "output_type": "display_data",
          "data": {
            "image/png": "[encoded data removed]",
            "text/plain": [
              "<Figure size 432x288 with 1 Axes>"
            ]
          },
          "metadata": {
            "tags": []
          }
        }
      ]
    },
    {
      "cell_type": "code",
      "metadata": {
        "id": "eXgr9H0pbJYa",
        "colab_type": "code",
        "colab": {}
      },
      "source": [
        ""
      ],
      "execution_count": 0,
      "outputs": []
    },
    {
      "cell_type": "code",
      "metadata": {
        "id": "9nPVYxIXbmiu",
        "colab_type": "code",
        "colab": {}
      },
      "source": [
        ""
      ],
      "execution_count": 0,
      "outputs": []
    }
  ]
}